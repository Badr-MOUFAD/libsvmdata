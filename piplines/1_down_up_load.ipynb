{
 "cells": [
  {
   "cell_type": "code",
   "execution_count": 19,
   "metadata": {},
   "outputs": [],
   "source": [
    "# load dataset table\n",
    "import json\n",
    "\n",
    "with open('datasets_table.json', 'r') as fp:\n",
    "    datasets_table = json.load(fp)"
   ]
  },
  {
   "cell_type": "code",
   "execution_count": null,
   "metadata": {},
   "outputs": [],
   "source": [
    "from urllib.request import urlopen\n",
    "\n",
    "# download .rds file\n",
    "link = datasets_table[\"datasets\"][0][\"download_url\"]\n",
    "response = urlopen(link)\n",
    "content = response.read()\n",
    "\n",
    "# save in a file\n",
    "with open(\"file_rds.rds\", 'wb') as f:\n",
    "  f.write(content)\n",
    "\n",
    "# re open it using rpy2\n",
    "import rpy2.robjects as robjects\n",
    "\n",
    "readRDS = robjects.r['readRDS']\n",
    "df = readRDS(\"filerds.rds\")\n",
    "\n",
    "\n",
    "# extract X and y\n",
    "import numpy as np\n",
    "\n",
    "X = np.array(df[0])\n",
    "y = np.array(df[1])"
   ]
  }
 ],
 "metadata": {
  "kernelspec": {
   "display_name": "Python 3.9.12 ('base')",
   "language": "python",
   "name": "python3"
  },
  "language_info": {
   "codemirror_mode": {
    "name": "ipython",
    "version": 3
   },
   "file_extension": ".py",
   "mimetype": "text/x-python",
   "name": "python",
   "nbconvert_exporter": "python",
   "pygments_lexer": "ipython3",
   "version": "3.9.12"
  },
  "orig_nbformat": 4,
  "vscode": {
   "interpreter": {
    "hash": "7f11aeec834b0b664ed4d577224a56ea5b63787d4fa47127cb2d8b0052bac473"
   }
  }
 },
 "nbformat": 4,
 "nbformat_minor": 2
}
