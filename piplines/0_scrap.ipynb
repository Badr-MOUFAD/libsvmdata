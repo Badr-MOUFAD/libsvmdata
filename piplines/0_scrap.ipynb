{
 "cells": [
  {
   "cell_type": "code",
   "execution_count": null,
   "metadata": {},
   "outputs": [],
   "source": [
    "# output structure\n",
    "{\n",
    "    \"datasets\": [\n",
    "        {\n",
    "            {\n",
    "                \"name\": \"\",\n",
    "                \"description\": \"\",\n",
    "                \"url\": \"\",\n",
    "                \"download_url\": \"\"\n",
    "            }\n",
    "        }\n",
    "    ],\n",
    "}"
   ]
  },
  {
   "cell_type": "code",
   "execution_count": 1,
   "metadata": {},
   "outputs": [],
   "source": [
    "# fetch page\n",
    "import requests\n",
    "from bs4 import BeautifulSoup\n",
    "\n",
    "URL = \"https://myweb.uiowa.edu/pbreheny/7600/s16/data.html\"\n",
    "page = requests.get(URL)\n",
    "\n",
    "page_htlm = BeautifulSoup(page.content, \"html.parser\")"
   ]
  },
  {
   "cell_type": "code",
   "execution_count": 2,
   "metadata": {},
   "outputs": [],
   "source": [
    "# select dataset table\n",
    "dataset_table = page_htlm.find(\"table\")"
   ]
  },
  {
   "cell_type": "code",
   "execution_count": 12,
   "metadata": {},
   "outputs": [],
   "source": [
    "OUTPUT = {\n",
    "    \"datasets\": []\n",
    "}"
   ]
  },
  {
   "cell_type": "code",
   "execution_count": 13,
   "metadata": {},
   "outputs": [],
   "source": [
    "# dump datasets infos\n",
    "\n",
    "# skip first two rows\n",
    "for row in dataset_table.find_all('tr')[2:]:\n",
    "    # split row infos\n",
    "    cells = row.find_all('td')\n",
    "    dataset_metadata = {}\n",
    "\n",
    "    dataset_name = cells[0].text.strip()\n",
    "    dataset_metadata[\"name\"] = dataset_name\n",
    "    dataset_metadata[\"description\"] = cells[1].text\n",
    "    dataset_metadata[\"url\"] = f\"https://myweb.uiowa.edu/pbreheny/data/{dataset_name}.html\"\n",
    "    dataset_metadata[\"download_url\"] = f\"https://s3.amazonaws.com/pbreheny-data-sets/{dataset_name}.rds\"\n",
    "\n",
    "    OUTPUT[\"datasets\"].append(dataset_metadata)"
   ]
  },
  {
   "cell_type": "code",
   "execution_count": 14,
   "metadata": {},
   "outputs": [
    {
     "name": "stdout",
     "output_type": "stream",
     "text": [
      "{'datasets': [{'name': 'Golub1999', 'description': ' Gene expression in leukemia patients ', 'url': 'https://myweb.uiowa.edu/pbreheny/data/Golub1999.html', 'download_url': 'https://s3.amazonaws.com/pbreheny-data-sets/Golub1999.rds'}, {'name': 'Singh2002', 'description': ' Case-control study of prostate cancer ', 'url': 'https://myweb.uiowa.edu/pbreheny/data/Singh2002.html', 'download_url': 'https://s3.amazonaws.com/pbreheny-data-sets/Singh2002.rds'}, {'name': 'Gode2011', 'description': ' Surface sensing in swarming bacteria ', 'url': 'https://myweb.uiowa.edu/pbreheny/data/Gode2011.html', 'download_url': 'https://s3.amazonaws.com/pbreheny-data-sets/Gode2011.rds'}, {'name': 'Scholtens2004', 'description': ' Response of ER+ breast cancer cell lines to estrogen ', 'url': 'https://myweb.uiowa.edu/pbreheny/data/Scholtens2004.html', 'download_url': 'https://s3.amazonaws.com/pbreheny-data-sets/Scholtens2004.rds'}, {'name': 'pollution', 'description': ' Air pollution and mortality in US metropolitan areas ', 'url': 'https://myweb.uiowa.edu/pbreheny/data/pollution.html', 'download_url': 'https://s3.amazonaws.com/pbreheny-data-sets/pollution.rds'}, {'name': 'whoari', 'description': ' World Health Organization study on acute respiratory illnesses ', 'url': 'https://myweb.uiowa.edu/pbreheny/data/whoari.html', 'download_url': 'https://s3.amazonaws.com/pbreheny-data-sets/whoari.rds'}, {'name': 'bcTCGA', 'description': ' Breast cancer gene expression data from The Cancer Genome Atlas ', 'url': 'https://myweb.uiowa.edu/pbreheny/data/bcTCGA.html', 'download_url': 'https://s3.amazonaws.com/pbreheny-data-sets/bcTCGA.rds'}, {'name': 'Koussounadis2014', 'description': ' Carbotax study of ovarian tumor growth ', 'url': 'https://myweb.uiowa.edu/pbreheny/data/Koussounadis2014.html', 'download_url': 'https://s3.amazonaws.com/pbreheny-data-sets/Koussounadis2014.rds'}, {'name': 'Scheetz2006', 'description': ' Gene expression in the mammalian eye ', 'url': 'https://myweb.uiowa.edu/pbreheny/data/Scheetz2006.html', 'download_url': 'https://s3.amazonaws.com/pbreheny-data-sets/Scheetz2006.rds'}, {'name': 'Ramaswamy2001', 'description': ' Multiclass cancer prediction involving 14 tumor types ', 'url': 'https://myweb.uiowa.edu/pbreheny/data/Ramaswamy2001.html', 'download_url': 'https://s3.amazonaws.com/pbreheny-data-sets/Ramaswamy2001.rds'}, {'name': 'Shedden2008', 'description': ' Survival analysis of lung cancer patients ', 'url': 'https://myweb.uiowa.edu/pbreheny/data/Shedden2008.html', 'download_url': 'https://s3.amazonaws.com/pbreheny-data-sets/Shedden2008.rds'}]}\n"
     ]
    }
   ],
   "source": [
    "print(OUTPUT)"
   ]
  },
  {
   "cell_type": "code",
   "execution_count": 15,
   "metadata": {},
   "outputs": [],
   "source": [
    "# save dict\n",
    "import json\n",
    "\n",
    "with open('datasets_table.json', 'w') as fp:\n",
    "    json.dump(OUTPUT, fp, indent=4)"
   ]
  }
 ],
 "metadata": {
  "kernelspec": {
   "display_name": "Python 3.9.12 ('base')",
   "language": "python",
   "name": "python3"
  },
  "language_info": {
   "codemirror_mode": {
    "name": "ipython",
    "version": 3
   },
   "file_extension": ".py",
   "mimetype": "text/x-python",
   "name": "python",
   "nbconvert_exporter": "python",
   "pygments_lexer": "ipython3",
   "version": "3.9.12"
  },
  "orig_nbformat": 4,
  "vscode": {
   "interpreter": {
    "hash": "7f11aeec834b0b664ed4d577224a56ea5b63787d4fa47127cb2d8b0052bac473"
   }
  }
 },
 "nbformat": 4,
 "nbformat_minor": 2
}
